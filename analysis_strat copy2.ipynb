{
 "cells": [
  {
   "cell_type": "code",
   "execution_count": 1,
   "metadata": {},
   "outputs": [],
   "source": [
    "import pandas as pd \n",
    "import numpy as np \n",
    "from sklearn.metrics import accuracy_score, f1_score, classification_report"
   ]
  },
  {
   "attachments": {},
   "cell_type": "markdown",
   "metadata": {},
   "source": [
    "Analysis for 10% implementation"
   ]
  },
  {
   "cell_type": "code",
   "execution_count": 41,
   "metadata": {},
   "outputs": [],
   "source": [
    "# read data\n",
    "er_base = pd.read_csv(\"dataset/final_results/er_test_strat_base_results.csv\")\n",
    "int_base = pd.read_csv(\"dataset/final_results/int_test_strat_base_results.csv\")\n",
    "exp_base = pd.read_csv(\"dataset/final_results/exp_test_strat_base_results.csv\")\n",
    "\n",
    "er_test_output_10 = pd.read_csv(\"dataset/final_results/er_test_strat_10_3_results.csv\")\n",
    "int_test_output_10 = pd.read_csv(\"dataset/final_results/int_test_strat_10_3_results.csv\")\n",
    "exp_test_output_10 = pd.read_csv(\"dataset/final_results/exp_test_strat_10_3_results.csv\")\n",
    "\n",
    "er_test_output_20 = pd.read_csv(\"dataset/final_results/er_test_strat_20_3_results.csv\")\n",
    "int_test_output_20 = pd.read_csv(\"dataset/final_results/int_test_strat_20_3_results.csv\")\n",
    "exp_test_output_20 = pd.read_csv(\"dataset/final_results/exp_test_strat_20_results.csv\")\n",
    "\n",
    "er_test_output_30 = pd.read_csv(\"dataset/final_results/er_test_strat_30_3_results.csv\")\n",
    "int_test_output_30 = pd.read_csv(\"dataset/final_results/int_test_strat_30_3_results.csv\")\n",
    "exp_test_output_30 = pd.read_csv(\"dataset/final_results/exp_test_strat_30_3_results.csv\")\n",
    "\n",
    "er_test_output_40 = pd.read_csv(\"dataset/final_results/er_test_strat_40_3_results.csv\")\n",
    "int_test_output_40 = pd.read_csv(\"dataset/final_results/int_test_strat_40_3_results.csv\")\n",
    "exp_test_output_40 = pd.read_csv(\"dataset/final_results/exp_test_strat_40_3_results.csv\")\n",
    "\n",
    "er_test_output_50 = pd.read_csv(\"dataset/final_results/er_test_strat_50_3_results.csv\")\n",
    "int_test_output_50 = pd.read_csv(\"dataset/final_results/int_test_strat_50_3_results.csv\")\n",
    "exp_test_output_50 = pd.read_csv(\"dataset/final_results/exp_test_strat_50_3_results.csv\")"
   ]
  },
  {
   "cell_type": "code",
   "execution_count": 8,
   "metadata": {},
   "outputs": [],
   "source": [
    "# read ground truths \n",
    "exp_test_expected= pd.read_csv(\"exp_test_strat.csv\")\n",
    "int_test_expected = pd.read_csv(\"int_test_strat.csv\")\n",
    "er_test_expected = pd.read_csv(\"er_test_strat.csv\")"
   ]
  },
  {
   "cell_type": "code",
   "execution_count": 9,
   "metadata": {},
   "outputs": [],
   "source": [
    "def extract_id_label(extract_df, label_name='level'):\n",
    "    extracted = []\n",
    "    for index, row in extract_df.iterrows():\n",
    "        extracted.append(row[label_name])\n",
    "    return extracted"
   ]
  },
  {
   "cell_type": "code",
   "execution_count": 10,
   "metadata": {},
   "outputs": [],
   "source": [
    "# Calculate the false positive, true positive , false negative, true negative \n",
    "# accuracy and so on\n",
    "def get_tp_fp_tn_fn(test_set_actuals, preds, positive_class):\n",
    "    TP = 0\n",
    "    FN = 0\n",
    "    FP = 0\n",
    "    TN = 0 \n",
    "    for i in range(len(test_set_actuals)):\n",
    "        if test_set_actuals[i] == positive_class:\n",
    "            if preds[i] == positive_class:\n",
    "                TP = TP + 1 \n",
    "            else: \n",
    "                FN = FN + 1 \n",
    "        else:\n",
    "            if preds[i] == positive_class:\n",
    "                FP = FP + 1 \n",
    "            else: \n",
    "                TN = TN + 1 \n",
    "    recall = TP/(TP + FN) if (TP + FN) != 0 else 0 \n",
    "    precision = TP/(TP + FP) if (TP + FP) != 0 else 0 \n",
    "    f1_score = 2 * precision*recall/(precision + recall) if (precision + recall) != 0 else 0\n",
    "    accuracy = (TP + TN)/ (TP+FP+TN+FN)\n",
    "    return recall, precision, f1_score"
   ]
  },
  {
   "cell_type": "code",
   "execution_count": 11,
   "metadata": {},
   "outputs": [],
   "source": [
    "def compute_analysis(true_labels, preds, title = ''):\n",
    "    print(title)\n",
    "    print(\"The accuracy is:\")\n",
    "    print(accuracy_score(true_labels,preds))\n",
    "    print(\"The macro f1 score is:\")\n",
    "    print(f1_score(true_labels,preds, average='macro'))\n",
    "    print(classification_report(true_labels,preds))"
   ]
  },
  {
   "cell_type": "code",
   "execution_count": 42,
   "metadata": {},
   "outputs": [],
   "source": [
    "exp_true_labels=extract_id_label(exp_test_expected)\n",
    "int_true_labels=extract_id_label(int_test_expected)\n",
    "er_true_labels=extract_id_label(er_test_expected)\n",
    "\n",
    "exp_test_output_base_preds = extract_id_label(exp_base, label_name='EX_label')\n",
    "er_test_output_base_preds = extract_id_label(er_base, label_name='ER_label')\n",
    "int_test_output_base_preds = extract_id_label(int_base,  label_name='IP_label')\n",
    "\n",
    "er_test_output_10_preds = extract_id_label(er_test_output_10, label_name='ER_label')\n",
    "exp_test_output_10_preds = extract_id_label(exp_test_output_10, label_name='EX_label')\n",
    "int_test_output_10_preds = extract_id_label(int_test_output_10,  label_name='IP_label')\n",
    "\n",
    "er_test_output_20_preds = extract_id_label(er_test_output_20, label_name='ER_label')\n",
    "exp_test_output_20_preds = extract_id_label(exp_test_output_20, label_name='EX_label')\n",
    "int_test_output_20_preds = extract_id_label(int_test_output_20,  label_name='IP_label')\n",
    "\n",
    "er_test_output_30_preds = extract_id_label(er_test_output_30, label_name='ER_label')\n",
    "exp_test_output_30_preds = extract_id_label(exp_test_output_30, label_name='EX_label')\n",
    "int_test_output_30_preds = extract_id_label(int_test_output_30,  label_name='IP_label')\n",
    "\n",
    "er_test_output_40_preds = extract_id_label(er_test_output_40, label_name='ER_label')\n",
    "exp_test_output_40_preds = extract_id_label(exp_test_output_40, label_name='EX_label')\n",
    "int_test_output_40_preds = extract_id_label(int_test_output_40,  label_name='IP_label')\n",
    "\n",
    "er_test_output_50_preds = extract_id_label(er_test_output_50, label_name='ER_label')\n",
    "exp_test_output_50_preds = extract_id_label(exp_test_output_50, label_name='EX_label')\n",
    "int_test_output_50_preds = extract_id_label(int_test_output_50,  label_name='IP_label')"
   ]
  },
  {
   "cell_type": "code",
   "execution_count": 38,
   "metadata": {},
   "outputs": [
    {
     "name": "stdout",
     "output_type": "stream",
     "text": [
      "er analysis base\n",
      "The accuracy is:\n",
      "0.7726675427069645\n",
      "The macro f1 score is:\n",
      "0.7346566632624266\n",
      "              precision    recall  f1-score   support\n",
      "\n",
      "           0       0.84      0.83      0.84       490\n",
      "           1       0.63      0.67      0.65       234\n",
      "           2       0.80      0.65      0.72        37\n",
      "\n",
      "    accuracy                           0.77       761\n",
      "   macro avg       0.76      0.72      0.73       761\n",
      "weighted avg       0.78      0.77      0.77       761\n",
      "\n"
     ]
    }
   ],
   "source": [
    "compute_analysis(er_true_labels, er_test_output_base_preds, title=\"er analysis base\")"
   ]
  },
  {
   "cell_type": "code",
   "execution_count": 40,
   "metadata": {},
   "outputs": [
    {
     "name": "stdout",
     "output_type": "stream",
     "text": [
      "exp analysis 10\n",
      "The accuracy is:\n",
      "0.5651595744680851\n",
      "The macro f1 score is:\n",
      "0.30833119424683336\n",
      "              precision    recall  f1-score   support\n",
      "\n",
      "           0       0.83      0.64      0.72       637\n",
      "           1       0.04      0.36      0.07        25\n",
      "           2       0.24      0.09      0.13        90\n",
      "\n",
      "    accuracy                           0.57       752\n",
      "   macro avg       0.37      0.36      0.31       752\n",
      "weighted avg       0.74      0.57      0.63       752\n",
      "\n"
     ]
    }
   ],
   "source": [
    "compute_analysis(exp_true_labels, exp_test_output_10_preds, title=\"exp analysis 10\")"
   ]
  },
  {
   "cell_type": "code",
   "execution_count": 43,
   "metadata": {},
   "outputs": [
    {
     "name": "stdout",
     "output_type": "stream",
     "text": [
      "exp analysis 20\n",
      "The accuracy is:\n",
      "0.9202127659574468\n",
      "The macro f1 score is:\n",
      "0.5919306082387426\n",
      "              precision    recall  f1-score   support\n",
      "\n",
      "           0       0.98      0.96      0.97       637\n",
      "           1       0.25      0.04      0.07        25\n",
      "           2       0.65      0.86      0.74        90\n",
      "\n",
      "    accuracy                           0.92       752\n",
      "   macro avg       0.62      0.62      0.59       752\n",
      "weighted avg       0.91      0.92      0.91       752\n",
      "\n"
     ]
    }
   ],
   "source": [
    "compute_analysis(exp_true_labels, exp_test_output_20_preds, title=\"exp analysis 20\")"
   ]
  },
  {
   "cell_type": "code",
   "execution_count": 22,
   "metadata": {},
   "outputs": [
    {
     "name": "stdout",
     "output_type": "stream",
     "text": [
      "exp analysis 30\n",
      "The accuracy is:\n",
      "0.5704787234042553\n",
      "The macro f1 score is:\n",
      "0.3095965627578051\n",
      "              precision    recall  f1-score   support\n",
      "\n",
      "           0       0.83      0.65      0.73       637\n",
      "           1       0.04      0.36      0.07        25\n",
      "           2       0.23      0.09      0.13        90\n",
      "\n",
      "    accuracy                           0.57       752\n",
      "   macro avg       0.37      0.37      0.31       752\n",
      "weighted avg       0.73      0.57      0.63       752\n",
      "\n"
     ]
    }
   ],
   "source": [
    "compute_analysis(exp_true_labels, exp_test_output_30_preds, title=\"exp analysis 30\")"
   ]
  },
  {
   "cell_type": "code",
   "execution_count": 23,
   "metadata": {},
   "outputs": [
    {
     "name": "stdout",
     "output_type": "stream",
     "text": [
      "exp analysis 40\n",
      "The accuracy is:\n",
      "0.5585106382978723\n",
      "The macro f1 score is:\n",
      "0.306371316761882\n",
      "              precision    recall  f1-score   support\n",
      "\n",
      "           0       0.83      0.63      0.72       637\n",
      "           1       0.04      0.36      0.07        25\n",
      "           2       0.25      0.09      0.13        90\n",
      "\n",
      "    accuracy                           0.56       752\n",
      "   macro avg       0.37      0.36      0.31       752\n",
      "weighted avg       0.74      0.56      0.63       752\n",
      "\n"
     ]
    }
   ],
   "source": [
    "compute_analysis(exp_true_labels, exp_test_output_40_preds, title=\"exp analysis 40\")"
   ]
  },
  {
   "cell_type": "code",
   "execution_count": 24,
   "metadata": {},
   "outputs": [
    {
     "name": "stdout",
     "output_type": "stream",
     "text": [
      "exp analysis 50\n",
      "The accuracy is:\n",
      "0.5704787234042553\n",
      "The macro f1 score is:\n",
      "0.309497611748977\n",
      "              precision    recall  f1-score   support\n",
      "\n",
      "           0       0.83      0.65      0.73       637\n",
      "           1       0.04      0.36      0.07        25\n",
      "           2       0.24      0.09      0.13        90\n",
      "\n",
      "    accuracy                           0.57       752\n",
      "   macro avg       0.37      0.37      0.31       752\n",
      "weighted avg       0.73      0.57      0.63       752\n",
      "\n"
     ]
    }
   ],
   "source": [
    "compute_analysis(exp_true_labels, exp_test_output_50_preds, title=\"exp analysis 50\")"
   ]
  },
  {
   "cell_type": "code",
   "execution_count": 25,
   "metadata": {},
   "outputs": [
    {
     "name": "stdout",
     "output_type": "stream",
     "text": [
      "er analysis 10\n",
      "The accuracy is:\n",
      "0.7910643889618922\n",
      "The macro f1 score is:\n",
      "0.7446592101270032\n",
      "              precision    recall  f1-score   support\n",
      "\n",
      "           0       0.85      0.86      0.85       490\n",
      "           1       0.67      0.68      0.67       234\n",
      "           2       0.88      0.59      0.71        37\n",
      "\n",
      "    accuracy                           0.79       761\n",
      "   macro avg       0.80      0.71      0.74       761\n",
      "weighted avg       0.79      0.79      0.79       761\n",
      "\n"
     ]
    }
   ],
   "source": [
    "compute_analysis(er_true_labels, er_test_output_10_preds, title=\"er analysis 10\")"
   ]
  },
  {
   "cell_type": "code",
   "execution_count": 26,
   "metadata": {},
   "outputs": [
    {
     "name": "stdout",
     "output_type": "stream",
     "text": [
      "er analysis 20\n",
      "The accuracy is:\n",
      "0.7818659658344284\n",
      "The macro f1 score is:\n",
      "0.7232646806078827\n",
      "              precision    recall  f1-score   support\n",
      "\n",
      "           0       0.84      0.87      0.85       490\n",
      "           1       0.66      0.62      0.64       234\n",
      "           2       0.74      0.62      0.68        37\n",
      "\n",
      "    accuracy                           0.78       761\n",
      "   macro avg       0.75      0.70      0.72       761\n",
      "weighted avg       0.78      0.78      0.78       761\n",
      "\n"
     ]
    }
   ],
   "source": [
    "compute_analysis(er_true_labels, er_test_output_20_preds, title=\"er analysis 20\")"
   ]
  },
  {
   "cell_type": "code",
   "execution_count": 27,
   "metadata": {},
   "outputs": [
    {
     "name": "stdout",
     "output_type": "stream",
     "text": [
      "er analysis 30\n",
      "The accuracy is:\n",
      "0.7818659658344284\n",
      "The macro f1 score is:\n",
      "0.754809599927445\n",
      "              precision    recall  f1-score   support\n",
      "\n",
      "           0       0.85      0.83      0.84       490\n",
      "           1       0.64      0.69      0.67       234\n",
      "           2       0.86      0.68      0.76        37\n",
      "\n",
      "    accuracy                           0.78       761\n",
      "   macro avg       0.78      0.73      0.75       761\n",
      "weighted avg       0.79      0.78      0.78       761\n",
      "\n"
     ]
    }
   ],
   "source": [
    "compute_analysis(er_true_labels, er_test_output_30_preds, title=\"er analysis 30\")"
   ]
  },
  {
   "cell_type": "code",
   "execution_count": 28,
   "metadata": {},
   "outputs": [
    {
     "name": "stdout",
     "output_type": "stream",
     "text": [
      "er analysis 40\n",
      "The accuracy is:\n",
      "0.7805519053876478\n",
      "The macro f1 score is:\n",
      "0.7173657416907084\n",
      "              precision    recall  f1-score   support\n",
      "\n",
      "           0       0.84      0.86      0.85       490\n",
      "           1       0.66      0.65      0.66       234\n",
      "           2       0.68      0.62      0.65        37\n",
      "\n",
      "    accuracy                           0.78       761\n",
      "   macro avg       0.73      0.71      0.72       761\n",
      "weighted avg       0.78      0.78      0.78       761\n",
      "\n"
     ]
    }
   ],
   "source": [
    "compute_analysis(er_true_labels, er_test_output_40_preds, title=\"er analysis 40\")"
   ]
  },
  {
   "cell_type": "code",
   "execution_count": 29,
   "metadata": {},
   "outputs": [
    {
     "name": "stdout",
     "output_type": "stream",
     "text": [
      "er analysis 50\n",
      "The accuracy is:\n",
      "0.7871222076215506\n",
      "The macro f1 score is:\n",
      "0.7662616737483114\n",
      "              precision    recall  f1-score   support\n",
      "\n",
      "           0       0.85      0.84      0.84       490\n",
      "           1       0.66      0.69      0.67       234\n",
      "           2       0.84      0.73      0.78        37\n",
      "\n",
      "    accuracy                           0.79       761\n",
      "   macro avg       0.78      0.75      0.77       761\n",
      "weighted avg       0.79      0.79      0.79       761\n",
      "\n"
     ]
    }
   ],
   "source": [
    "compute_analysis(er_true_labels, er_test_output_50_preds, title=\"er analysis 50\")"
   ]
  },
  {
   "cell_type": "code",
   "execution_count": 30,
   "metadata": {},
   "outputs": [
    {
     "name": "stdout",
     "output_type": "stream",
     "text": [
      "int analysis 10\n",
      "The accuracy is:\n",
      "0.8371212121212122\n",
      "The macro f1 score is:\n",
      "0.5688836471736701\n",
      "              precision    recall  f1-score   support\n",
      "\n",
      "           0       0.90      0.83      0.86       402\n",
      "           1       0.00      0.00      0.00        29\n",
      "           2       0.79      0.92      0.85       361\n",
      "\n",
      "    accuracy                           0.84       792\n",
      "   macro avg       0.56      0.58      0.57       792\n",
      "weighted avg       0.81      0.84      0.82       792\n",
      "\n"
     ]
    }
   ],
   "source": [
    "compute_analysis(int_true_labels, int_test_output_10_preds, title=\"int analysis 10\")"
   ]
  },
  {
   "cell_type": "code",
   "execution_count": 31,
   "metadata": {},
   "outputs": [
    {
     "name": "stdout",
     "output_type": "stream",
     "text": [
      "int analysis 20\n",
      "The accuracy is:\n",
      "0.8383838383838383\n",
      "The macro f1 score is:\n",
      "0.5699529269898166\n",
      "              precision    recall  f1-score   support\n",
      "\n",
      "           0       0.87      0.85      0.86       402\n",
      "           1       0.00      0.00      0.00        29\n",
      "           2       0.81      0.89      0.85       361\n",
      "\n",
      "    accuracy                           0.84       792\n",
      "   macro avg       0.56      0.58      0.57       792\n",
      "weighted avg       0.81      0.84      0.82       792\n",
      "\n"
     ]
    }
   ],
   "source": [
    "compute_analysis(int_true_labels, int_test_output_20_preds, title=\"int analysis 20\")"
   ]
  },
  {
   "cell_type": "code",
   "execution_count": 32,
   "metadata": {},
   "outputs": [
    {
     "name": "stdout",
     "output_type": "stream",
     "text": [
      "int analysis 30\n",
      "The accuracy is:\n",
      "0.8396464646464646\n",
      "The macro f1 score is:\n",
      "0.5708658587426864\n",
      "              precision    recall  f1-score   support\n",
      "\n",
      "           0       0.89      0.85      0.87       402\n",
      "           1       0.00      0.00      0.00        29\n",
      "           2       0.80      0.90      0.85       361\n",
      "\n",
      "    accuracy                           0.84       792\n",
      "   macro avg       0.56      0.58      0.57       792\n",
      "weighted avg       0.81      0.84      0.83       792\n",
      "\n"
     ]
    }
   ],
   "source": [
    "compute_analysis(int_true_labels, int_test_output_30_preds, title=\"int analysis 30\")"
   ]
  },
  {
   "cell_type": "code",
   "execution_count": 33,
   "metadata": {},
   "outputs": [
    {
     "name": "stdout",
     "output_type": "stream",
     "text": [
      "int analysis 40\n",
      "The accuracy is:\n",
      "0.8459595959595959\n",
      "The macro f1 score is:\n",
      "0.5744090163066496\n",
      "              precision    recall  f1-score   support\n",
      "\n",
      "           0       0.89      0.85      0.87       402\n",
      "           1       0.00      0.00      0.00        29\n",
      "           2       0.80      0.91      0.85       361\n",
      "\n",
      "    accuracy                           0.85       792\n",
      "   macro avg       0.56      0.59      0.57       792\n",
      "weighted avg       0.82      0.85      0.83       792\n",
      "\n"
     ]
    },
    {
     "name": "stderr",
     "output_type": "stream",
     "text": [
      "/home/fikram/miniconda3/lib/python3.11/site-packages/sklearn/metrics/_classification.py:1469: UndefinedMetricWarning: Precision and F-score are ill-defined and being set to 0.0 in labels with no predicted samples. Use `zero_division` parameter to control this behavior.\n",
      "  _warn_prf(average, modifier, msg_start, len(result))\n",
      "/home/fikram/miniconda3/lib/python3.11/site-packages/sklearn/metrics/_classification.py:1469: UndefinedMetricWarning: Precision and F-score are ill-defined and being set to 0.0 in labels with no predicted samples. Use `zero_division` parameter to control this behavior.\n",
      "  _warn_prf(average, modifier, msg_start, len(result))\n",
      "/home/fikram/miniconda3/lib/python3.11/site-packages/sklearn/metrics/_classification.py:1469: UndefinedMetricWarning: Precision and F-score are ill-defined and being set to 0.0 in labels with no predicted samples. Use `zero_division` parameter to control this behavior.\n",
      "  _warn_prf(average, modifier, msg_start, len(result))\n"
     ]
    }
   ],
   "source": [
    "compute_analysis(int_true_labels, int_test_output_40_preds, title=\"int analysis 40\")"
   ]
  },
  {
   "cell_type": "code",
   "execution_count": 34,
   "metadata": {},
   "outputs": [
    {
     "data": {
      "text/plain": [
       "[0,\n",
       " 0,\n",
       " 0,\n",
       " 0,\n",
       " 0,\n",
       " 0,\n",
       " 2,\n",
       " 0,\n",
       " 0,\n",
       " 0,\n",
       " 2,\n",
       " 0,\n",
       " 0,\n",
       " 0,\n",
       " 0,\n",
       " 2,\n",
       " 0,\n",
       " 0,\n",
       " 0,\n",
       " 0,\n",
       " 0,\n",
       " 0,\n",
       " 0,\n",
       " 0,\n",
       " 2,\n",
       " 0,\n",
       " 0,\n",
       " 0,\n",
       " 0,\n",
       " 0,\n",
       " 0,\n",
       " 0,\n",
       " 0,\n",
       " 0,\n",
       " 0,\n",
       " 0,\n",
       " 0,\n",
       " 2,\n",
       " 0,\n",
       " 0,\n",
       " 0,\n",
       " 0,\n",
       " 0,\n",
       " 0,\n",
       " 0,\n",
       " 0,\n",
       " 0,\n",
       " 0,\n",
       " 0,\n",
       " 0,\n",
       " 0,\n",
       " 2,\n",
       " 0,\n",
       " 0,\n",
       " 0,\n",
       " 2,\n",
       " 0,\n",
       " 0,\n",
       " 2,\n",
       " 0,\n",
       " 0,\n",
       " 0,\n",
       " 0,\n",
       " 0,\n",
       " 0,\n",
       " 0,\n",
       " 0,\n",
       " 0,\n",
       " 0,\n",
       " 0,\n",
       " 0,\n",
       " 0,\n",
       " 0,\n",
       " 0,\n",
       " 0,\n",
       " 0,\n",
       " 0,\n",
       " 0,\n",
       " 0,\n",
       " 0,\n",
       " 0,\n",
       " 0,\n",
       " 0,\n",
       " 0,\n",
       " 2,\n",
       " 0,\n",
       " 0,\n",
       " 2,\n",
       " 0,\n",
       " 0,\n",
       " 0,\n",
       " 0,\n",
       " 0,\n",
       " 2,\n",
       " 0,\n",
       " 0,\n",
       " 0,\n",
       " 0,\n",
       " 0,\n",
       " 0,\n",
       " 0,\n",
       " 0,\n",
       " 0,\n",
       " 0,\n",
       " 0,\n",
       " 0,\n",
       " 0,\n",
       " 0,\n",
       " 2,\n",
       " 0,\n",
       " 0,\n",
       " 0,\n",
       " 0,\n",
       " 0,\n",
       " 0,\n",
       " 0,\n",
       " 2,\n",
       " 0,\n",
       " 0,\n",
       " 0,\n",
       " 0,\n",
       " 0,\n",
       " 0,\n",
       " 0,\n",
       " 0,\n",
       " 0,\n",
       " 0,\n",
       " 0,\n",
       " 0,\n",
       " 0,\n",
       " 0,\n",
       " 0,\n",
       " 0,\n",
       " 0,\n",
       " 2,\n",
       " 0,\n",
       " 0,\n",
       " 0,\n",
       " 0,\n",
       " 0,\n",
       " 0,\n",
       " 0,\n",
       " 0,\n",
       " 2,\n",
       " 0,\n",
       " 0,\n",
       " 0,\n",
       " 0,\n",
       " 0,\n",
       " 0,\n",
       " 0,\n",
       " 0,\n",
       " 0,\n",
       " 0,\n",
       " 0,\n",
       " 0,\n",
       " 0,\n",
       " 0,\n",
       " 0,\n",
       " 0,\n",
       " 0,\n",
       " 0,\n",
       " 0,\n",
       " 0,\n",
       " 0,\n",
       " 0,\n",
       " 0,\n",
       " 0,\n",
       " 0,\n",
       " 0,\n",
       " 2,\n",
       " 0,\n",
       " 0,\n",
       " 2,\n",
       " 2,\n",
       " 2,\n",
       " 2,\n",
       " 0,\n",
       " 0,\n",
       " 0,\n",
       " 2,\n",
       " 2,\n",
       " 0,\n",
       " 0,\n",
       " 0,\n",
       " 0,\n",
       " 0,\n",
       " 0,\n",
       " 0,\n",
       " 0,\n",
       " 0,\n",
       " 0,\n",
       " 0,\n",
       " 0,\n",
       " 0,\n",
       " 0,\n",
       " 0,\n",
       " 0,\n",
       " 2,\n",
       " 0,\n",
       " 0,\n",
       " 0,\n",
       " 0,\n",
       " 0,\n",
       " 0,\n",
       " 2,\n",
       " 2,\n",
       " 0,\n",
       " 0,\n",
       " 0,\n",
       " 0,\n",
       " 0,\n",
       " 0,\n",
       " 0,\n",
       " 0,\n",
       " 0,\n",
       " 0,\n",
       " 0,\n",
       " 0,\n",
       " 0,\n",
       " 0,\n",
       " 0,\n",
       " 0,\n",
       " 0,\n",
       " 0,\n",
       " 0,\n",
       " 0,\n",
       " 0,\n",
       " 0,\n",
       " 0,\n",
       " 2,\n",
       " 2,\n",
       " 0,\n",
       " 2,\n",
       " 0,\n",
       " 2,\n",
       " 0,\n",
       " 0,\n",
       " 0,\n",
       " 0,\n",
       " 0,\n",
       " 2,\n",
       " 0,\n",
       " 2,\n",
       " 0,\n",
       " 0,\n",
       " 2,\n",
       " 0,\n",
       " 0,\n",
       " 0,\n",
       " 0,\n",
       " 2,\n",
       " 0,\n",
       " 2,\n",
       " 0,\n",
       " 0,\n",
       " 0,\n",
       " 0,\n",
       " 2,\n",
       " 2,\n",
       " 0,\n",
       " 2,\n",
       " 0,\n",
       " 0,\n",
       " 0,\n",
       " 2,\n",
       " 0,\n",
       " 2,\n",
       " 0,\n",
       " 0,\n",
       " 0,\n",
       " 0,\n",
       " 0,\n",
       " 0,\n",
       " 0,\n",
       " 0,\n",
       " 0,\n",
       " 0,\n",
       " 2,\n",
       " 0,\n",
       " 0,\n",
       " 0,\n",
       " 0,\n",
       " 0,\n",
       " 0,\n",
       " 0,\n",
       " 0,\n",
       " 0,\n",
       " 0,\n",
       " 2,\n",
       " 0,\n",
       " 0,\n",
       " 2,\n",
       " 0,\n",
       " 0,\n",
       " 0,\n",
       " 0,\n",
       " 0,\n",
       " 0,\n",
       " 0,\n",
       " 0,\n",
       " 0,\n",
       " 0,\n",
       " 0,\n",
       " 0,\n",
       " 0,\n",
       " 0,\n",
       " 2,\n",
       " 0,\n",
       " 0,\n",
       " 0,\n",
       " 2,\n",
       " 0,\n",
       " 0,\n",
       " 0,\n",
       " 0,\n",
       " 0,\n",
       " 0,\n",
       " 0,\n",
       " 0,\n",
       " 0,\n",
       " 0,\n",
       " 0,\n",
       " 0,\n",
       " 0,\n",
       " 0,\n",
       " 0,\n",
       " 0,\n",
       " 0,\n",
       " 0,\n",
       " 0,\n",
       " 2,\n",
       " 0,\n",
       " 0,\n",
       " 0,\n",
       " 0,\n",
       " 0,\n",
       " 0,\n",
       " 0,\n",
       " 0,\n",
       " 0,\n",
       " 2,\n",
       " 0,\n",
       " 0,\n",
       " 0,\n",
       " 2,\n",
       " 0,\n",
       " 0,\n",
       " 0,\n",
       " 0,\n",
       " 2,\n",
       " 0,\n",
       " 0,\n",
       " 2,\n",
       " 0,\n",
       " 0,\n",
       " 0,\n",
       " 2,\n",
       " 0,\n",
       " 0,\n",
       " 2,\n",
       " 0,\n",
       " 0,\n",
       " 0,\n",
       " 2,\n",
       " 0,\n",
       " 0,\n",
       " 0,\n",
       " 0,\n",
       " 2,\n",
       " 0,\n",
       " 0,\n",
       " 0,\n",
       " 0,\n",
       " 0,\n",
       " 0,\n",
       " 2,\n",
       " 2,\n",
       " 0,\n",
       " 0,\n",
       " 0,\n",
       " 0,\n",
       " 0,\n",
       " 2,\n",
       " 2,\n",
       " 0,\n",
       " 0,\n",
       " 0,\n",
       " 0,\n",
       " 2,\n",
       " 0,\n",
       " 0,\n",
       " 0,\n",
       " 2,\n",
       " 0,\n",
       " 0,\n",
       " 0,\n",
       " 0,\n",
       " 0,\n",
       " 0,\n",
       " 0,\n",
       " 0,\n",
       " 2,\n",
       " 2,\n",
       " 2,\n",
       " 0,\n",
       " 0,\n",
       " 0,\n",
       " 0,\n",
       " 0,\n",
       " 0,\n",
       " 2,\n",
       " 0,\n",
       " 2,\n",
       " 2,\n",
       " 2,\n",
       " 0,\n",
       " 2,\n",
       " 2,\n",
       " 2,\n",
       " 2,\n",
       " 2,\n",
       " 2,\n",
       " 2,\n",
       " 2,\n",
       " 2,\n",
       " 2,\n",
       " 2,\n",
       " 2,\n",
       " 2,\n",
       " 2,\n",
       " 2,\n",
       " 2,\n",
       " 0,\n",
       " 0,\n",
       " 2,\n",
       " 2,\n",
       " 2,\n",
       " 2,\n",
       " 2,\n",
       " 2,\n",
       " 2,\n",
       " 2,\n",
       " 2,\n",
       " 2,\n",
       " 2,\n",
       " 2,\n",
       " 2,\n",
       " 2,\n",
       " 2,\n",
       " 2,\n",
       " 2,\n",
       " 2,\n",
       " 0,\n",
       " 2,\n",
       " 2,\n",
       " 2,\n",
       " 2,\n",
       " 2,\n",
       " 2,\n",
       " 2,\n",
       " 2,\n",
       " 2,\n",
       " 2,\n",
       " 2,\n",
       " 0,\n",
       " 2,\n",
       " 2,\n",
       " 2,\n",
       " 2,\n",
       " 2,\n",
       " 2,\n",
       " 2,\n",
       " 0,\n",
       " 2,\n",
       " 2,\n",
       " 2,\n",
       " 2,\n",
       " 2,\n",
       " 2,\n",
       " 2,\n",
       " 2,\n",
       " 2,\n",
       " 2,\n",
       " 0,\n",
       " 2,\n",
       " 0,\n",
       " 2,\n",
       " 2,\n",
       " 2,\n",
       " 2,\n",
       " 2,\n",
       " 2,\n",
       " 2,\n",
       " 2,\n",
       " 2,\n",
       " 2,\n",
       " 0,\n",
       " 2,\n",
       " 2,\n",
       " 2,\n",
       " 2,\n",
       " 2,\n",
       " 2,\n",
       " 2,\n",
       " 0,\n",
       " 0,\n",
       " 2,\n",
       " 2,\n",
       " 2,\n",
       " 2,\n",
       " 2,\n",
       " 2,\n",
       " 2,\n",
       " 0,\n",
       " 0,\n",
       " 2,\n",
       " 2,\n",
       " 2,\n",
       " 2,\n",
       " 2,\n",
       " 0,\n",
       " 2,\n",
       " 0,\n",
       " 2,\n",
       " 0,\n",
       " 2,\n",
       " 2,\n",
       " 2,\n",
       " 2,\n",
       " 2,\n",
       " 2,\n",
       " 2,\n",
       " 2,\n",
       " 2,\n",
       " 2,\n",
       " 2,\n",
       " 2,\n",
       " 2,\n",
       " 2,\n",
       " 0,\n",
       " 2,\n",
       " 2,\n",
       " 2,\n",
       " 2,\n",
       " 2,\n",
       " 2,\n",
       " 2,\n",
       " 2,\n",
       " 2,\n",
       " 2,\n",
       " 2,\n",
       " 2,\n",
       " 2,\n",
       " 2,\n",
       " 2,\n",
       " 0,\n",
       " 2,\n",
       " 2,\n",
       " 2,\n",
       " 2,\n",
       " 2,\n",
       " 2,\n",
       " 2,\n",
       " 2,\n",
       " 2,\n",
       " 2,\n",
       " 2,\n",
       " 2,\n",
       " 2,\n",
       " 2,\n",
       " 2,\n",
       " 2,\n",
       " 2,\n",
       " 2,\n",
       " 2,\n",
       " 2,\n",
       " 2,\n",
       " 2,\n",
       " 2,\n",
       " 2,\n",
       " 2,\n",
       " 2,\n",
       " 2,\n",
       " 2,\n",
       " 2,\n",
       " 2,\n",
       " 2,\n",
       " 2,\n",
       " 2,\n",
       " 2,\n",
       " 2,\n",
       " 2,\n",
       " 0,\n",
       " 2,\n",
       " 2,\n",
       " 2,\n",
       " 2,\n",
       " 2,\n",
       " 2,\n",
       " 2,\n",
       " 2,\n",
       " 2,\n",
       " 2,\n",
       " 2,\n",
       " 2,\n",
       " 2,\n",
       " 2,\n",
       " 2,\n",
       " 0,\n",
       " 2,\n",
       " 2,\n",
       " 2,\n",
       " 2,\n",
       " 2,\n",
       " 2,\n",
       " 2,\n",
       " 2,\n",
       " 2,\n",
       " 2,\n",
       " 2,\n",
       " 2,\n",
       " 2,\n",
       " 2,\n",
       " 2,\n",
       " 2,\n",
       " 2,\n",
       " 0,\n",
       " 2,\n",
       " 2,\n",
       " 2,\n",
       " 2,\n",
       " 2,\n",
       " 2,\n",
       " 2,\n",
       " 2,\n",
       " 2,\n",
       " 0,\n",
       " 2,\n",
       " 2,\n",
       " 2,\n",
       " 2,\n",
       " 2,\n",
       " 2,\n",
       " 2,\n",
       " 2,\n",
       " 2,\n",
       " 2,\n",
       " 2,\n",
       " 2,\n",
       " 2,\n",
       " 2,\n",
       " 2,\n",
       " 0,\n",
       " 2,\n",
       " 2,\n",
       " 2,\n",
       " 2,\n",
       " 2,\n",
       " 2,\n",
       " 2,\n",
       " 2,\n",
       " 2,\n",
       " 2,\n",
       " 2,\n",
       " 2,\n",
       " 2,\n",
       " 2,\n",
       " 2,\n",
       " 2,\n",
       " 2,\n",
       " 0,\n",
       " 2,\n",
       " 2,\n",
       " 0,\n",
       " 2,\n",
       " 2,\n",
       " 0,\n",
       " 2,\n",
       " 2,\n",
       " 2,\n",
       " 2,\n",
       " 2,\n",
       " 2,\n",
       " 2,\n",
       " 0,\n",
       " 2,\n",
       " 2,\n",
       " 2,\n",
       " 2,\n",
       " 2,\n",
       " 2,\n",
       " 2,\n",
       " 2,\n",
       " 2,\n",
       " 2,\n",
       " 2,\n",
       " 2,\n",
       " 2,\n",
       " 2,\n",
       " 2,\n",
       " 2,\n",
       " 2,\n",
       " 2,\n",
       " 2,\n",
       " 2,\n",
       " 2,\n",
       " 2,\n",
       " 2,\n",
       " 2,\n",
       " 2,\n",
       " 2,\n",
       " 0,\n",
       " 2,\n",
       " 2,\n",
       " 2,\n",
       " 2,\n",
       " 2,\n",
       " 2,\n",
       " 2,\n",
       " 2,\n",
       " 2,\n",
       " 2,\n",
       " 0,\n",
       " 2,\n",
       " 0,\n",
       " 2,\n",
       " 2,\n",
       " 2,\n",
       " 2,\n",
       " 2,\n",
       " 2,\n",
       " 0,\n",
       " 2,\n",
       " 2,\n",
       " 2,\n",
       " 2,\n",
       " 2,\n",
       " 2,\n",
       " 2,\n",
       " 2,\n",
       " 2,\n",
       " 2,\n",
       " 2,\n",
       " 2,\n",
       " 0,\n",
       " 2,\n",
       " 2,\n",
       " 2,\n",
       " 2,\n",
       " 2,\n",
       " 2,\n",
       " 2,\n",
       " 2,\n",
       " 2,\n",
       " 2,\n",
       " 2,\n",
       " 2,\n",
       " 2,\n",
       " 0,\n",
       " 2,\n",
       " 2,\n",
       " 2,\n",
       " 2,\n",
       " 2,\n",
       " 2,\n",
       " 2,\n",
       " 2,\n",
       " 2,\n",
       " 2,\n",
       " 2,\n",
       " 2,\n",
       " 2,\n",
       " 2,\n",
       " 2,\n",
       " 2,\n",
       " 0,\n",
       " 2,\n",
       " 2,\n",
       " 2,\n",
       " 2,\n",
       " 2,\n",
       " 2,\n",
       " 2,\n",
       " 2,\n",
       " 2,\n",
       " 2,\n",
       " 2,\n",
       " 2,\n",
       " 0,\n",
       " 2,\n",
       " 2]"
      ]
     },
     "execution_count": 34,
     "metadata": {},
     "output_type": "execute_result"
    }
   ],
   "source": [
    "int_test_output_40_preds"
   ]
  },
  {
   "cell_type": "code",
   "execution_count": 35,
   "metadata": {},
   "outputs": [
    {
     "name": "stdout",
     "output_type": "stream",
     "text": [
      "int analysis 50\n",
      "The accuracy is:\n",
      "0.8409090909090909\n",
      "The macro f1 score is:\n",
      "0.5708173126281243\n",
      "              precision    recall  f1-score   support\n",
      "\n",
      "           0       0.87      0.87      0.87       402\n",
      "           1       0.00      0.00      0.00        29\n",
      "           2       0.81      0.88      0.84       361\n",
      "\n",
      "    accuracy                           0.84       792\n",
      "   macro avg       0.56      0.58      0.57       792\n",
      "weighted avg       0.81      0.84      0.83       792\n",
      "\n"
     ]
    },
    {
     "name": "stderr",
     "output_type": "stream",
     "text": [
      "/home/fikram/miniconda3/lib/python3.11/site-packages/sklearn/metrics/_classification.py:1469: UndefinedMetricWarning: Precision and F-score are ill-defined and being set to 0.0 in labels with no predicted samples. Use `zero_division` parameter to control this behavior.\n",
      "  _warn_prf(average, modifier, msg_start, len(result))\n",
      "/home/fikram/miniconda3/lib/python3.11/site-packages/sklearn/metrics/_classification.py:1469: UndefinedMetricWarning: Precision and F-score are ill-defined and being set to 0.0 in labels with no predicted samples. Use `zero_division` parameter to control this behavior.\n",
      "  _warn_prf(average, modifier, msg_start, len(result))\n",
      "/home/fikram/miniconda3/lib/python3.11/site-packages/sklearn/metrics/_classification.py:1469: UndefinedMetricWarning: Precision and F-score are ill-defined and being set to 0.0 in labels with no predicted samples. Use `zero_division` parameter to control this behavior.\n",
      "  _warn_prf(average, modifier, msg_start, len(result))\n"
     ]
    }
   ],
   "source": [
    "compute_analysis(int_true_labels, int_test_output_50_preds, title=\"int analysis 50\")"
   ]
  },
  {
   "cell_type": "code",
   "execution_count": 68,
   "metadata": {},
   "outputs": [],
   "source": [
    "exp_true_labels=extract_id_label(exp_test_expected)\n",
    "exp_preds = extract_id_label(exp_test_output, label_name='EX_label')"
   ]
  },
  {
   "cell_type": "code",
   "execution_count": 69,
   "metadata": {},
   "outputs": [
    {
     "data": {
      "text/plain": [
       "0.9372496662216289"
      ]
     },
     "execution_count": 69,
     "metadata": {},
     "output_type": "execute_result"
    }
   ],
   "source": [
    "total_exp_preds_corr = 0\n",
    "total_exp_preds = len(exp_preds)\n",
    "exp_true_labels_list = [] \n",
    "exp_preds_list = [] \n",
    "for k in exp_preds.keys():\n",
    "    if (exp_true_labels[k] == exp_preds[k]):\n",
    "        total_exp_preds_corr = total_exp_preds_corr + 1 \n",
    "    exp_true_labels_list.append(exp_true_labels[k])\n",
    "    exp_preds_list.append(exp_preds[k])\n",
    "\n",
    "total_exp_preds_corr/total_exp_preds"
   ]
  },
  {
   "cell_type": "code",
   "execution_count": 70,
   "metadata": {},
   "outputs": [
    {
     "data": {
      "text/plain": [
       "0.9372496662216289"
      ]
     },
     "execution_count": 70,
     "metadata": {},
     "output_type": "execute_result"
    }
   ],
   "source": [
    "np.sum(np.array(exp_true_labels_list) == np.array(exp_preds_list))/total_exp_preds"
   ]
  },
  {
   "cell_type": "code",
   "execution_count": 73,
   "metadata": {},
   "outputs": [],
   "source": [
    "er_true_labels=extract_id_label(er_test_expected)\n",
    "er_preds = extract_id_label(er_test_output, label_name='ER_label')\n"
   ]
  },
  {
   "cell_type": "code",
   "execution_count": 74,
   "metadata": {},
   "outputs": [
    {
     "data": {
      "text/plain": [
       "0.7791005291005291"
      ]
     },
     "execution_count": 74,
     "metadata": {},
     "output_type": "execute_result"
    }
   ],
   "source": [
    "total_er_preds_corr = 0\n",
    "total_er_preds = len(er_preds)\n",
    "er_true_labels_list = [] \n",
    "er_preds_list = [] \n",
    "for k in er_preds.keys():\n",
    "    if er_true_labels[k] == er_preds[k]:\n",
    "        total_er_preds_corr = total_er_preds_corr + 1\n",
    "    er_true_labels_list.append(er_true_labels[k])\n",
    "    er_preds_list.append(er_preds[k])\n",
    "\n",
    "total_er_preds_corr/ total_er_preds   \n"
   ]
  },
  {
   "cell_type": "code",
   "execution_count": 75,
   "metadata": {},
   "outputs": [
    {
     "data": {
      "text/plain": [
       "0.7791005291005291"
      ]
     },
     "execution_count": 75,
     "metadata": {},
     "output_type": "execute_result"
    }
   ],
   "source": [
    "np.sum(np.array(er_true_labels_list) == np.array(er_preds_list))/total_er_preds"
   ]
  },
  {
   "cell_type": "code",
   "execution_count": 76,
   "metadata": {},
   "outputs": [
    {
     "data": {
      "text/plain": [
       "0.8403041825095057"
      ]
     },
     "execution_count": 76,
     "metadata": {},
     "output_type": "execute_result"
    }
   ],
   "source": [
    "int_true_labels=extract_id_label(int_test_expected)\n",
    "int_preds = extract_id_label(int_test_output, label_name='IP_label')\n",
    "int_true_labels_list = [] \n",
    "int_preds_list = [] \n",
    "total_int_preds_corr = 0\n",
    "total_int_preds = len(int_preds)\n",
    "for k in int_preds.keys():\n",
    "    if int_true_labels[k] == int_preds[k]:\n",
    "        total_int_preds_corr = total_int_preds_corr + 1\n",
    "    int_true_labels_list.append(int_true_labels[k])\n",
    "    int_preds_list.append(int_preds[k])\n",
    "    \n",
    "total_int_preds_corr/ total_int_preds"
   ]
  },
  {
   "cell_type": "code",
   "execution_count": 77,
   "metadata": {},
   "outputs": [
    {
     "data": {
      "text/plain": [
       "0.8403041825095057"
      ]
     },
     "execution_count": 77,
     "metadata": {},
     "output_type": "execute_result"
    }
   ],
   "source": [
    "np.sum(np.array(int_true_labels_list) == np.array(int_preds_list))/total_int_preds"
   ]
  },
  {
   "cell_type": "code",
   "execution_count": 78,
   "metadata": {},
   "outputs": [
    {
     "data": {
      "text/plain": [
       "(0.0, 0.0, 0)"
      ]
     },
     "execution_count": 78,
     "metadata": {},
     "output_type": "execute_result"
    }
   ],
   "source": [
    "get_tp_fp_tn_fn(int_true_labels_list, int_preds_list, 1)"
   ]
  },
  {
   "cell_type": "code",
   "execution_count": 88,
   "metadata": {},
   "outputs": [
    {
     "data": {
      "text/plain": [
       "0.8403041825095057"
      ]
     },
     "execution_count": 88,
     "metadata": {},
     "output_type": "execute_result"
    }
   ],
   "source": [
    "from sklearn.metrics import accuracy_score, f1_score, classification_report\n",
    "accuracy_score(int_true_labels_list,int_preds_list)"
   ]
  },
  {
   "cell_type": "code",
   "execution_count": 80,
   "metadata": {},
   "outputs": [
    {
     "data": {
      "text/plain": [
       "0.571063723239995"
      ]
     },
     "execution_count": 80,
     "metadata": {},
     "output_type": "execute_result"
    }
   ],
   "source": [
    "f1_score(int_true_labels_list,int_preds_list, average='macro')"
   ]
  },
  {
   "cell_type": "code",
   "execution_count": 81,
   "metadata": {},
   "outputs": [
    {
     "data": {
      "text/plain": [
       "0.8403041825095057"
      ]
     },
     "execution_count": 81,
     "metadata": {},
     "output_type": "execute_result"
    }
   ],
   "source": [
    "accuracy_score(int_true_labels_list,int_preds_list)"
   ]
  },
  {
   "cell_type": "code",
   "execution_count": 82,
   "metadata": {},
   "outputs": [
    {
     "data": {
      "text/plain": [
       "0.7223893245223962"
      ]
     },
     "execution_count": 82,
     "metadata": {},
     "output_type": "execute_result"
    }
   ],
   "source": [
    "f1_score(er_true_labels_list,er_preds_list, average='macro')"
   ]
  },
  {
   "cell_type": "code",
   "execution_count": 83,
   "metadata": {},
   "outputs": [
    {
     "data": {
      "text/plain": [
       "0.6668345571667152"
      ]
     },
     "execution_count": 83,
     "metadata": {},
     "output_type": "execute_result"
    }
   ],
   "source": [
    "f1_score(exp_true_labels_list,exp_preds_list, average='macro')"
   ]
  },
  {
   "cell_type": "code",
   "execution_count": 84,
   "metadata": {},
   "outputs": [
    {
     "data": {
      "text/plain": [
       "(0.8651685393258427, 0.719626168224299, 0.7857142857142857)"
      ]
     },
     "execution_count": 84,
     "metadata": {},
     "output_type": "execute_result"
    }
   ],
   "source": [
    "get_tp_fp_tn_fn(exp_true_labels_list, exp_preds_list, 2)"
   ]
  },
  {
   "cell_type": "code",
   "execution_count": 85,
   "metadata": {},
   "outputs": [
    {
     "data": {
      "text/plain": [
       "{0, 1, 2}"
      ]
     },
     "execution_count": 85,
     "metadata": {},
     "output_type": "execute_result"
    }
   ],
   "source": [
    "set(int_preds_list)"
   ]
  },
  {
   "cell_type": "code",
   "execution_count": 91,
   "metadata": {},
   "outputs": [],
   "source": [
    "def compute_analysis(true_labels, preds, title = ''):\n",
    "    print(title)\n",
    "    print(\"The accuracy is:\")\n",
    "    print(accuracy_score(true_labels,preds))\n",
    "    print(\"The macro f1 score is:\")\n",
    "    print(f1_score(true_labels,preds, average='macro'))\n",
    "    print(classification_report(true_labels,preds))"
   ]
  },
  {
   "cell_type": "code",
   "execution_count": 92,
   "metadata": {},
   "outputs": [
    {
     "name": "stdout",
     "output_type": "stream",
     "text": [
      "exp analysis 10\n",
      "The accuracy is:\n",
      "0.9372496662216289\n",
      "The macro f1 score is:\n",
      "0.6668345571667152\n",
      "              precision    recall  f1-score   support\n",
      "\n",
      "           0       0.98      0.98      0.98       635\n",
      "           1       0.44      0.16      0.24        25\n",
      "           2       0.72      0.87      0.79        89\n",
      "\n",
      "    accuracy                           0.94       749\n",
      "   macro avg       0.72      0.67      0.67       749\n",
      "weighted avg       0.93      0.94      0.93       749\n",
      "\n"
     ]
    }
   ],
   "source": [
    "compute_analysis(exp_true_labels_list, exp_preds_list, title=\"exp analysis 10\")"
   ]
  },
  {
   "cell_type": "code",
   "execution_count": 93,
   "metadata": {},
   "outputs": [
    {
     "name": "stdout",
     "output_type": "stream",
     "text": [
      "int analysis 10\n",
      "The accuracy is:\n",
      "0.8403041825095057\n",
      "The macro f1 score is:\n",
      "0.571063723239995\n",
      "              precision    recall  f1-score   support\n",
      "\n",
      "           0       0.90      0.83      0.86       401\n",
      "           1       0.00      0.00      0.00        29\n",
      "           2       0.79      0.92      0.85       359\n",
      "\n",
      "    accuracy                           0.84       789\n",
      "   macro avg       0.56      0.58      0.57       789\n",
      "weighted avg       0.82      0.84      0.83       789\n",
      "\n"
     ]
    }
   ],
   "source": [
    "compute_analysis(int_true_labels_list, int_preds_list, title=\"int analysis 10\")"
   ]
  },
  {
   "cell_type": "code",
   "execution_count": 94,
   "metadata": {},
   "outputs": [
    {
     "name": "stdout",
     "output_type": "stream",
     "text": [
      "er analysis 10\n",
      "The accuracy is:\n",
      "0.7791005291005291\n",
      "The macro f1 score is:\n",
      "0.7223893245223962\n",
      "              precision    recall  f1-score   support\n",
      "\n",
      "           0       0.85      0.85      0.85       488\n",
      "           1       0.64      0.66      0.65       231\n",
      "           2       0.72      0.62      0.67        37\n",
      "\n",
      "    accuracy                           0.78       756\n",
      "   macro avg       0.74      0.71      0.72       756\n",
      "weighted avg       0.78      0.78      0.78       756\n",
      "\n"
     ]
    }
   ],
   "source": [
    "compute_analysis(er_true_labels_list, er_preds_list, title=\"er analysis 10\")"
   ]
  },
  {
   "cell_type": "code",
   "execution_count": 5,
   "metadata": {},
   "outputs": [],
   "source": [
    "exp_acc = [0.9361, 0.9361, 0.9202, 0.9149, 0.9162, 0.9136]\n",
    "exp_acc_2 = [0.9361, 0.9230, 0.9210, 0.9170, 0.9154, 0.9120]\n",
    "er_acc = [0.7984, 0.7810, 0.7831, 0.791, 0.7831, 0.7556]\n",
    "er_acc_2 = [0.7984,0.7911,0.7818, 0.7819, 0.7805, 0.7871]\n",
    "int_acc = [0.8510, 0.8408, 0.8497, 0.8371, 0.8380, 0.8396]\n",
    "int_acc_2 = [0.8510, 0.8371, 0.8384, 0.8396, 0.8460, 0.8460]"
   ]
  },
  {
   "cell_type": "code",
   "execution_count": 6,
   "metadata": {},
   "outputs": [],
   "source": [
    "exp_f1 = [0.6652, 0.6653, 0.5920, 0.5872, 0.5708, 0.6074]\n",
    "exp_f1_2 = [0.6652, 0.6230, 0.6001, 0.5971, 0.5800, 0.5950]\n",
    "er_f1 = [0.7573, 0.7241, 0.7394, 0.7534, 0.7241, 0.7074]\n",
    "er_f1_2 = [0.7573,0.7447, 0.7232, 0.7548, 0.7663, 0.7663] \n",
    "int_f1 = [0.5606, 0.5714, 0.5735, 0.5769, 0.5683, 0.5703]\n",
    "int_f1_2 = [0.5778, 0.5688, 0.5700, 0.5709, 0.5744, 0.5744] "
   ]
  },
  {
   "cell_type": "code",
   "execution_count": 26,
   "metadata": {},
   "outputs": [
    {
     "ename": "NameError",
     "evalue": "name 'er_f1' is not defined",
     "output_type": "error",
     "traceback": [
      "\u001b[0;31m---------------------------------------------------------------------------\u001b[0m",
      "\u001b[0;31mNameError\u001b[0m                                 Traceback (most recent call last)",
      "Cell \u001b[0;32mIn[26], line 3\u001b[0m\n\u001b[1;32m      1\u001b[0m \u001b[39mfrom\u001b[39;00m \u001b[39mmatplotlib\u001b[39;00m \u001b[39mimport\u001b[39;00m pyplot \u001b[39mas\u001b[39;00m plt\n\u001b[1;32m      2\u001b[0m percents \u001b[39m=\u001b[39m [\u001b[39m0\u001b[39m,\u001b[39m10\u001b[39m,\u001b[39m20\u001b[39m,\u001b[39m30\u001b[39m,\u001b[39m40\u001b[39m,\u001b[39m50\u001b[39m]\n\u001b[0;32m----> 3\u001b[0m plt\u001b[39m.\u001b[39mplot(percents,er_f1, marker\u001b[39m=\u001b[39m\u001b[39m'\u001b[39m\u001b[39mo\u001b[39m\u001b[39m'\u001b[39m, label \u001b[39m=\u001b[39m \u001b[39m'\u001b[39m\u001b[39mmacro f1\u001b[39m\u001b[39m'\u001b[39m)\n\u001b[1;32m      4\u001b[0m plt\u001b[39m.\u001b[39mplot(percents,er_acc, marker\u001b[39m=\u001b[39m\u001b[39m'\u001b[39m\u001b[39mo\u001b[39m\u001b[39m'\u001b[39m, label \u001b[39m=\u001b[39m \u001b[39m'\u001b[39m\u001b[39maccuracy\u001b[39m\u001b[39m'\u001b[39m)\n\u001b[1;32m      5\u001b[0m leg \u001b[39m=\u001b[39m plt\u001b[39m.\u001b[39mlegend()\n",
      "\u001b[0;31mNameError\u001b[0m: name 'er_f1' is not defined"
     ]
    }
   ],
   "source": [
    "from matplotlib import pyplot as plt\n",
    "percents = [0,10,20,30,40,50]\n",
    "plt.plot(percents,er_f1, marker='o', label = 'macro f1')\n",
    "plt.plot(percents,er_acc, marker='o', label = 'accuracy')\n",
    "leg = plt.legend()\n",
    "plt.title(\"Emotional Reaction Results\")\n",
    "plt.ylabel(\"Performance\")\n",
    "plt.xlabel(\"Percent Increase with Synthetic Data\")\n"
   ]
  },
  {
   "cell_type": "code",
   "execution_count": 8,
   "metadata": {},
   "outputs": [
    {
     "data": {
      "text/plain": [
       "Text(0.5, 0, 'Percent Increase with Synthetic Data')"
      ]
     },
     "execution_count": 8,
     "metadata": {},
     "output_type": "execute_result"
    },
    {
     "data": {
      "image/png": "[encoded data removed]",
      "text/plain": [
       "<Figure size 640x480 with 1 Axes>"
      ]
     },
     "metadata": {},
     "output_type": "display_data"
    }
   ],
   "source": [
    "percents = [0,10,20,30,40,50]\n",
    "plt.plot(percents,exp_f1, marker='o', label = 'macro f1')\n",
    "plt.plot(percents,exp_acc, marker='o', label = 'accuracy')\n",
    "leg = plt.legend()\n",
    "plt.title(\"Exploration Results\")\n",
    "plt.ylabel(\"Performance\")\n",
    "plt.xlabel(\"Percent Increase with Synthetic Data\")"
   ]
  },
  {
   "cell_type": "code",
   "execution_count": 9,
   "metadata": {},
   "outputs": [
    {
     "data": {
      "text/plain": [
       "Text(0.5, 0, 'Percent Increase with Synthetic Data')"
      ]
     },
     "execution_count": 9,
     "metadata": {},
     "output_type": "execute_result"
    },
    {
     "data": {
      "image/png": "[encoded data removed]",
      "text/plain": [
       "<Figure size 640x480 with 1 Axes>"
      ]
     },
     "metadata": {},
     "output_type": "display_data"
    }
   ],
   "source": [
    "percents = [0,10,20,30,40,50]\n",
    "plt.plot(percents,int_f1, marker='o', label = 'macro f1')\n",
    "plt.plot(percents,int_acc, marker='o', label = 'accuracy')\n",
    "leg = plt.legend()\n",
    "plt.title(\"Interpretations Results\")\n",
    "plt.ylabel(\"Performance\")\n",
    "plt.xlabel(\"Percent Increase with Synthetic Data\")"
   ]
  },
  {
   "cell_type": "code",
   "execution_count": 27,
   "metadata": {},
   "outputs": [
    {
     "data": {
      "text/plain": [
       "Text(0.5, 0, 'Percent Increase with Synthetic Data')"
      ]
     },
     "execution_count": 27,
     "metadata": {},
     "output_type": "execute_result"
    },
    {
     "data": {
      "image/png": "[encoded data removed]",
      "text/plain": [
       "<Figure size 640x480 with 1 Axes>"
      ]
     },
     "metadata": {},
     "output_type": "display_data"
    }
   ],
   "source": [
    "#roberta base \n",
    "\n",
    "percents = [0,10,20,30,40,50]\n",
    "er_weak = [0.86, 0.85, 0.85, 0.85, 0.85, 0.82]\n",
    "exp_weak = [0.97, 0.98, 0.97, 0.97, 0.97, 0.96] \n",
    "int_weak = [0.86, 0.86, 0.87, 0.88, 0.86, 0.87] \n",
    "plt.plot(percents,er_weak, marker='o', label = 'Emotional Reactions')\n",
    "plt.plot(percents,exp_weak, marker='o', label = 'Explorations')\n",
    "plt.plot(percents,int_weak, marker='o', label = 'Interpretations')\n",
    "\n",
    "leg = plt.legend()\n",
    "plt.title(\"Most Prevalent Class MacroF1 Results\")\n",
    "plt.ylabel(\"Performance\")\n",
    "plt.xlabel(\"Percent Increase with Synthetic Data\")"
   ]
  },
  {
   "cell_type": "code",
   "execution_count": null,
   "metadata": {},
   "outputs": [],
   "source": [
    "#roberta base \n",
    "\n",
    "percents = [0,10,20,30,40,50]\n",
    "er_weak = [0.77, 0.67, 0.72, 0.74, 0.67, 0.66]\n",
    "exp_weak = [0, 0.24, 0.07, 0.07, 0, 0.11] \n",
    "int_weak = [0, 0, 0, 0, 0, 0] \n",
    "plt.plot(percents,er_weak, marker='o', label = 'macro f1')\n",
    "plt.plot(percents,exp_weak, marker='o', label = 'accuracy')\n",
    "plt.plot(percents,int_weak, marker='o', label = 'accuracy')\n",
    "\n",
    "leg = plt.legend()\n",
    "plt.title(\"Least Prevalent Class MacroF1 Results\")\n",
    "plt.ylabel(\"Performance\")\n",
    "plt.xlabel(\"Percent Increase with Synthetic Data\")"
   ]
  },
  {
   "cell_type": "markdown",
   "metadata": {},
   "source": []
  },
  {
   "cell_type": "code",
   "execution_count": 16,
   "metadata": {},
   "outputs": [],
   "source": [
    "# extract and save sample training data\n",
    "# read 20 samples of training data\n",
    "\n",
    "df1_er = pd.read_csv(\"er_train_strat.csv\").sample(n=10)\n",
    "df2_er = pd.read_csv(\"dataset/processed_data_percents/er_few_shot_proc_50_1.csv\").sample(n=10)\n",
    "df1_er['origin'] = 'human'\n",
    "df2_er['origin'] = 'machine'\n",
    "final_er_df_to_check = pd.concat([df1_er,df2_er])\n",
    "final_er_df_to_check.to_csv(\"final_er_df_to_check.csv\")"
   ]
  },
  {
   "cell_type": "code",
   "execution_count": 17,
   "metadata": {},
   "outputs": [],
   "source": [
    "df1_exp = pd.read_csv(\"exp_train_strat.csv\").sample(n=10)\n",
    "df2_exp = pd.read_csv(\"dataset/processed_data_percents/exp_few_shot_proc_50_1.csv\").sample(n=10)\n",
    "df1_exp['origin'] = 'human'\n",
    "df2_exp['origin'] = 'machine'\n",
    "final_exp_df_to_check = pd.concat([df1_exp,df2_exp])\n",
    "final_exp_df_to_check.to_csv(\"final_exp_df_to_check.csv\")"
   ]
  },
  {
   "cell_type": "code",
   "execution_count": 13,
   "metadata": {},
   "outputs": [
    {
     "data": {
      "text/html": [
       "<div>\n",
       "<style scoped>\n",
       "    .dataframe tbody tr th:only-of-type {\n",
       "        vertical-align: middle;\n",
       "    }\n",
       "\n",
       "    .dataframe tbody tr th {\n",
       "        vertical-align: top;\n",
       "    }\n",
       "\n",
       "    .dataframe thead th {\n",
       "        text-align: right;\n",
       "    }\n",
       "</style>\n",
       "<table border=\"1\" class=\"dataframe\">\n",
       "  <thead>\n",
       "    <tr style=\"text-align: right;\">\n",
       "      <th></th>\n",
       "      <th>Unnamed: 0</th>\n",
       "      <th>id</th>\n",
       "      <th>seeker_post</th>\n",
       "      <th>response_post</th>\n",
       "      <th>level</th>\n",
       "      <th>rationale_labels</th>\n",
       "      <th>rationale_labels_trimmed</th>\n",
       "      <th>response_post_masked</th>\n",
       "      <th>origin</th>\n",
       "    </tr>\n",
       "  </thead>\n",
       "  <tbody>\n",
       "    <tr>\n",
       "      <th>2179</th>\n",
       "      <td>2950</td>\n",
       "      <td>7xq2gf_dubf8r9</td>\n",
       "      <td>Anyone else feel unlovable. All i want is hugs...</td>\n",
       "      <td>I kind of agree with you but doing all that re...</td>\n",
       "      <td>1</td>\n",
       "      <td>1,1,1,1,1,1,1,1,1,1,1,1,1,1,1,1,1,0,0,0,0,0,0,...</td>\n",
       "      <td>93</td>\n",
       "      <td>. Sometimes I'm just happy to get through the...</td>\n",
       "      <td>human</td>\n",
       "    </tr>\n",
       "    <tr>\n",
       "      <th>728</th>\n",
       "      <td>1314</td>\n",
       "      <td>9h8tp1_e6a0ycz</td>\n",
       "      <td>What do you do to stay focused?. asking becaus...</td>\n",
       "      <td>Honestly would just set five minute goals, do ...</td>\n",
       "      <td>0</td>\n",
       "      <td>0,1,1,1,1,1,1,1,1,1,1,1,1,1,1,1,1,1,1,1,1,1,1,...</td>\n",
       "      <td>113</td>\n",
       "      <td>NaN</td>\n",
       "      <td>human</td>\n",
       "    </tr>\n",
       "    <tr>\n",
       "      <th>1669</th>\n",
       "      <td>709</td>\n",
       "      <td>41g07l_cz26vua</td>\n",
       "      <td>Wish I was never born. Not looking for attenti...</td>\n",
       "      <td>Yeah, I resonate with a lot of what you're say...</td>\n",
       "      <td>1</td>\n",
       "      <td>1,1,1,1,1,1,1,1,1,1,1,1,1,1,1,1,1,1,1,1,1,1,1,...</td>\n",
       "      <td>117</td>\n",
       "      <td>Let me ask you this: what do you find joy or ...</td>\n",
       "      <td>human</td>\n",
       "    </tr>\n",
       "    <tr>\n",
       "      <th>2264</th>\n",
       "      <td>1548</td>\n",
       "      <td>85p72c_dvzg5ct</td>\n",
       "      <td>I can't keep up with school. I can't keep up w...</td>\n",
       "      <td>Sorry to hear that man. What are you studying?...</td>\n",
       "      <td>2</td>\n",
       "      <td>1,1,1,1,1,1,0,0,0,0,0,0,0,0,0,0,0,0,0,0,0,0,0,...</td>\n",
       "      <td>67</td>\n",
       "      <td>What are you studying? Do you feel like the m...</td>\n",
       "      <td>human</td>\n",
       "    </tr>\n",
       "    <tr>\n",
       "      <th>981</th>\n",
       "      <td>1863</td>\n",
       "      <td>6ufhni_dlsalms</td>\n",
       "      <td>Anyone overcome their fears because of suicida...</td>\n",
       "      <td>i'd say that i would have overcame any suicida...</td>\n",
       "      <td>0</td>\n",
       "      <td>0,1,1,1,1,1,1,1,1,1,1,1,1,1,1,1,1,1,0,0,0,0,0,...</td>\n",
       "      <td>33</td>\n",
       "      <td>NaN</td>\n",
       "      <td>human</td>\n",
       "    </tr>\n",
       "  </tbody>\n",
       "</table>\n",
       "</div>"
      ],
      "text/plain": [
       "      Unnamed: 0              id  \\\n",
       "2179        2950  7xq2gf_dubf8r9   \n",
       "728         1314  9h8tp1_e6a0ycz   \n",
       "1669         709  41g07l_cz26vua   \n",
       "2264        1548  85p72c_dvzg5ct   \n",
       "981         1863  6ufhni_dlsalms   \n",
       "\n",
       "                                            seeker_post  \\\n",
       "2179  Anyone else feel unlovable. All i want is hugs...   \n",
       "728   What do you do to stay focused?. asking becaus...   \n",
       "1669  Wish I was never born. Not looking for attenti...   \n",
       "2264  I can't keep up with school. I can't keep up w...   \n",
       "981   Anyone overcome their fears because of suicida...   \n",
       "\n",
       "                                          response_post  level  \\\n",
       "2179  I kind of agree with you but doing all that re...      1   \n",
       "728   Honestly would just set five minute goals, do ...      0   \n",
       "1669  Yeah, I resonate with a lot of what you're say...      1   \n",
       "2264  Sorry to hear that man. What are you studying?...      2   \n",
       "981   i'd say that i would have overcame any suicida...      0   \n",
       "\n",
       "                                       rationale_labels  \\\n",
       "2179  1,1,1,1,1,1,1,1,1,1,1,1,1,1,1,1,1,0,0,0,0,0,0,...   \n",
       "728   0,1,1,1,1,1,1,1,1,1,1,1,1,1,1,1,1,1,1,1,1,1,1,...   \n",
       "1669  1,1,1,1,1,1,1,1,1,1,1,1,1,1,1,1,1,1,1,1,1,1,1,...   \n",
       "2264  1,1,1,1,1,1,0,0,0,0,0,0,0,0,0,0,0,0,0,0,0,0,0,...   \n",
       "981   0,1,1,1,1,1,1,1,1,1,1,1,1,1,1,1,1,1,0,0,0,0,0,...   \n",
       "\n",
       "      rationale_labels_trimmed  \\\n",
       "2179                        93   \n",
       "728                        113   \n",
       "1669                       117   \n",
       "2264                        67   \n",
       "981                         33   \n",
       "\n",
       "                                   response_post_masked origin  \n",
       "2179   . Sometimes I'm just happy to get through the...  human  \n",
       "728                                                 NaN  human  \n",
       "1669   Let me ask you this: what do you find joy or ...  human  \n",
       "2264   What are you studying? Do you feel like the m...  human  \n",
       "981                                                 NaN  human  "
      ]
     },
     "execution_count": 13,
     "metadata": {},
     "output_type": "execute_result"
    }
   ],
   "source": [
    "df1_int = pd.read_csv(\"int_train_strat.csv\").sample(n=10)\n",
    "df2_int = pd.read_csv(\"dataset/processed_data_percents/int_few_shot_proc_50_1.csv\").sample(n=10)\n",
    "df1_int['origin'] = 'human'\n",
    "df2_int['origin'] = 'machine'\n",
    "final_int_df_to_check = pd.concat([df1_er,df2_er])\n",
    "final_int_df_to_check.to_csv(\"final_er_df_to_check.csv\")"
   ]
  },
  {
   "cell_type": "code",
   "execution_count": null,
   "metadata": {},
   "outputs": [],
   "source": []
  }
 ],
 "metadata": {
  "kernelspec": {
   "display_name": "base",
   "language": "python",
   "name": "python3"
  },
  "language_info": {
   "codemirror_mode": {
    "name": "ipython",
    "version": 3
   },
   "file_extension": ".py",
   "mimetype": "text/x-python",
   "name": "python",
   "nbconvert_exporter": "python",
   "pygments_lexer": "ipython3",
   "version": "3.11.4"
  },
  "orig_nbformat": 4,
  "vscode": {
   "interpreter": {
    "hash": "3a96bf760157861c002c0aacea2973a0f8e44a3ebe30b90a211615be8c2eb22f"
   }
  }
 },
 "nbformat": 4,
 "nbformat_minor": 2
}
